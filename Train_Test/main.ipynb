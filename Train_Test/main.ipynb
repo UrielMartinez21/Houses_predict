{
 "cells": [
  {
   "cell_type": "markdown",
   "metadata": {},
   "source": [
    "## Bibliotecas"
   ]
  },
  {
   "cell_type": "code",
   "execution_count": 1,
   "metadata": {},
   "outputs": [],
   "source": [
    "import pandas as pd\n",
    "import numpy as np\n",
    "from sklearn.preprocessing import LabelEncoder\n",
    "import torch\n",
    "from torchvision.io import read_image\n",
    "from torchvision import transforms, utils\n",
    "from torch.utils.data import Dataset, DataLoader,ConcatDataset\n",
    "from sklearn.preprocessing import LabelEncoder\n",
    "from torch import nn\n",
    "from torch import optim\n",
    "import datetime\n",
    "from sklearn.preprocessing import StandardScaler"
   ]
  },
  {
   "cell_type": "markdown",
   "metadata": {},
   "source": [
    "## Lectura de dataset train y test"
   ]
  },
  {
   "cell_type": "code",
   "execution_count": 2,
   "metadata": {},
   "outputs": [
    {
     "data": {
      "text/html": [
       "<div>\n",
       "<style scoped>\n",
       "    .dataframe tbody tr th:only-of-type {\n",
       "        vertical-align: middle;\n",
       "    }\n",
       "\n",
       "    .dataframe tbody tr th {\n",
       "        vertical-align: top;\n",
       "    }\n",
       "\n",
       "    .dataframe thead th {\n",
       "        text-align: right;\n",
       "    }\n",
       "</style>\n",
       "<table border=\"1\" class=\"dataframe\">\n",
       "  <thead>\n",
       "    <tr style=\"text-align: right;\">\n",
       "      <th></th>\n",
       "      <th>bathrooms</th>\n",
       "      <th>bedrooms</th>\n",
       "      <th>area</th>\n",
       "      <th>zipcode</th>\n",
       "      <th>bathroom_image</th>\n",
       "      <th>kitchen_image</th>\n",
       "      <th>bedroom_image</th>\n",
       "      <th>frontal_image</th>\n",
       "      <th>price</th>\n",
       "    </tr>\n",
       "  </thead>\n",
       "  <tbody>\n",
       "    <tr>\n",
       "      <th>0</th>\n",
       "      <td>5.0</td>\n",
       "      <td>5</td>\n",
       "      <td>3816</td>\n",
       "      <td>92880</td>\n",
       "      <td>285_bathroom.jpg</td>\n",
       "      <td>285_kitchen.jpg</td>\n",
       "      <td>285_bedroom.jpg</td>\n",
       "      <td>285_frontal.jpg</td>\n",
       "      <td>589900</td>\n",
       "    </tr>\n",
       "    <tr>\n",
       "      <th>1</th>\n",
       "      <td>2.0</td>\n",
       "      <td>2</td>\n",
       "      <td>1440</td>\n",
       "      <td>92276</td>\n",
       "      <td>348_bathroom.jpg</td>\n",
       "      <td>348_kitchen.jpg</td>\n",
       "      <td>348_bedroom.jpg</td>\n",
       "      <td>348_frontal.jpg</td>\n",
       "      <td>106000</td>\n",
       "    </tr>\n",
       "    <tr>\n",
       "      <th>2</th>\n",
       "      <td>3.0</td>\n",
       "      <td>4</td>\n",
       "      <td>1625</td>\n",
       "      <td>93510</td>\n",
       "      <td>441_bathroom.jpg</td>\n",
       "      <td>441_kitchen.jpg</td>\n",
       "      <td>441_bedroom.jpg</td>\n",
       "      <td>441_frontal.jpg</td>\n",
       "      <td>639000</td>\n",
       "    </tr>\n",
       "    <tr>\n",
       "      <th>3</th>\n",
       "      <td>3.0</td>\n",
       "      <td>4</td>\n",
       "      <td>2454</td>\n",
       "      <td>93510</td>\n",
       "      <td>422_bathroom.jpg</td>\n",
       "      <td>422_kitchen.jpg</td>\n",
       "      <td>422_bedroom.jpg</td>\n",
       "      <td>422_frontal.jpg</td>\n",
       "      <td>5858000</td>\n",
       "    </tr>\n",
       "    <tr>\n",
       "      <th>4</th>\n",
       "      <td>4.5</td>\n",
       "      <td>4</td>\n",
       "      <td>4038</td>\n",
       "      <td>92677</td>\n",
       "      <td>150_bathroom.jpg</td>\n",
       "      <td>150_kitchen.jpg</td>\n",
       "      <td>150_bedroom.jpg</td>\n",
       "      <td>150_frontal.jpg</td>\n",
       "      <td>1795000</td>\n",
       "    </tr>\n",
       "  </tbody>\n",
       "</table>\n",
       "</div>"
      ],
      "text/plain": [
       "   bathrooms  bedrooms  area  zipcode    bathroom_image    kitchen_image  \\\n",
       "0        5.0         5  3816    92880  285_bathroom.jpg  285_kitchen.jpg   \n",
       "1        2.0         2  1440    92276  348_bathroom.jpg  348_kitchen.jpg   \n",
       "2        3.0         4  1625    93510  441_bathroom.jpg  441_kitchen.jpg   \n",
       "3        3.0         4  2454    93510  422_bathroom.jpg  422_kitchen.jpg   \n",
       "4        4.5         4  4038    92677  150_bathroom.jpg  150_kitchen.jpg   \n",
       "\n",
       "     bedroom_image    frontal_image    price  \n",
       "0  285_bedroom.jpg  285_frontal.jpg   589900  \n",
       "1  348_bedroom.jpg  348_frontal.jpg   106000  \n",
       "2  441_bedroom.jpg  441_frontal.jpg   639000  \n",
       "3  422_bedroom.jpg  422_frontal.jpg  5858000  \n",
       "4  150_bedroom.jpg  150_frontal.jpg  1795000  "
      ]
     },
     "execution_count": 2,
     "metadata": {},
     "output_type": "execute_result"
    }
   ],
   "source": [
    "train = pd.read_csv('../Dataset/train.csv')\n",
    "test = pd.read_csv('../Dataset/test.csv')\n",
    "\n",
    "train.head()"
   ]
  },
  {
   "cell_type": "code",
   "execution_count": 3,
   "metadata": {},
   "outputs": [
    {
     "name": "stdout",
     "output_type": "stream",
     "text": [
      "<class 'pandas.core.frame.DataFrame'>\n",
      "RangeIndex: 428 entries, 0 to 427\n",
      "Data columns (total 9 columns):\n",
      " #   Column          Non-Null Count  Dtype  \n",
      "---  ------          --------------  -----  \n",
      " 0   bathrooms       428 non-null    float64\n",
      " 1   bedrooms        428 non-null    int64  \n",
      " 2   area            428 non-null    int64  \n",
      " 3   zipcode         428 non-null    int64  \n",
      " 4   bathroom_image  428 non-null    object \n",
      " 5   kitchen_image   428 non-null    object \n",
      " 6   bedroom_image   428 non-null    object \n",
      " 7   frontal_image   428 non-null    object \n",
      " 8   price           428 non-null    int64  \n",
      "dtypes: float64(1), int64(4), object(4)\n",
      "memory usage: 30.2+ KB\n"
     ]
    }
   ],
   "source": [
    "train.info()"
   ]
  },
  {
   "cell_type": "markdown",
   "metadata": {},
   "source": [
    "## Preparar Dataset"
   ]
  },
  {
   "cell_type": "code",
   "execution_count": 29,
   "metadata": {},
   "outputs": [],
   "source": [
    "class CustomImageDataset(Dataset):\n",
    "    def __init__(self, df, transform=None):\n",
    "        self.df = df                # DataFrame que contiene los datos\n",
    "        self.transform = transform  # Transformaciones opcionales para las imágenes\n",
    "\n",
    "        # --> Seleccionar las columnas que se van a estandarizar\n",
    "        self.numeric_features = ['bedrooms', 'bathrooms', 'area', 'zipcode']\n",
    "        \n",
    "        # --> Inicializar el estandarizador y ajustarlo a los datos\n",
    "        self.scaler = StandardScaler()\n",
    "        self.df[self.numeric_features] = self.scaler.fit_transform(self.df[self.numeric_features])\n",
    "\n",
    "    def __len__(self):\n",
    "        return len(self.df)\n",
    "\n",
    "    # --> Método para obtener una muestra del conjunto de datos dado un índice\n",
    "    def __getitem__(self, idx):\n",
    "        # --> Obtener las rutas de las imágenes para baño, cocina, dormitorio y frontal\n",
    "        # bathroom_img_path = self.df.loc[idx, 'bathroom_image']\n",
    "        # kitchen_img_path = self.df.loc[idx, 'kitchen_image']\n",
    "        # bedroom_img_path = self.df.loc[idx, 'bedroom_image']\n",
    "        frontal_img_path = self.df.loc[idx, 'frontal_image']\n",
    "        \n",
    "        # --> Leer las imágenes desde las rutas especificadas y convertirlas a tensores float\n",
    "        # bathroom_image = read_image(bathroom_img_path).float()\n",
    "        # kitchen_image = read_image(kitchen_img_path).float()\n",
    "        # bedroom_image = read_image(bedroom_img_path).float()\n",
    "        frontal_image = read_image(f\"../Dataset/Houses-dataset/Houses Dataset/{frontal_img_path}\").float()\n",
    "        \n",
    "        # --> Obtener los valores de las características numéricas estandarizadas desde el DataFrame\n",
    "        bathrooms = torch.tensor(self.df.loc[idx, 'bathrooms'], dtype=torch.float32)\n",
    "        bedrooms = torch.tensor(self.df.loc[idx, 'bedrooms'], dtype=torch.float32)\n",
    "        area = torch.tensor(self.df.loc[idx, 'area'], dtype=torch.float32)\n",
    "        zipcode = torch.tensor(self.df.loc[idx, 'zipcode'], dtype=torch.float32)\n",
    "        price = torch.tensor(self.df.loc[idx, 'price'], dtype=torch.float32)\n",
    "        \n",
    "        # --> Aplicar transformaciones a las imágenes si se proporcionan\n",
    "        if self.transform:\n",
    "            # bathroom_image = self.transform(bathroom_image)\n",
    "            # kitchen_image = self.transform(kitchen_image)\n",
    "            # bedroom_image = self.transform(bedroom_image)\n",
    "            frontal_image = self.transform(frontal_image)\n",
    "        \n",
    "        # --> Concatenar las características numéricas estandarizadas en un solo tensor\n",
    "        numeric_features = torch.hstack((bathrooms, bedrooms, area, zipcode))\n",
    "        \n",
    "        # --> Crear un diccionario de las imágenes\n",
    "        # images = {\n",
    "        #     'bathroom': bathroom_image,\n",
    "        #     'kitchen': kitchen_image,\n",
    "        #     'bedroom': bedroom_image,\n",
    "        #     'frontal': frontal_image\n",
    "        # }\n",
    "        \n",
    "        # Devolver las imágenes, las características numéricas y el precio\n",
    "        return frontal_image, numeric_features, price"
   ]
  },
  {
   "cell_type": "markdown",
   "metadata": {},
   "source": [
    "## Aumentar datos"
   ]
  },
  {
   "cell_type": "code",
   "execution_count": 30,
   "metadata": {},
   "outputs": [],
   "source": [
    "data1=CustomImageDataset(df=train,transform=transforms.Compose([transforms.Resize(256),\n",
    "                                                                transforms.RandomCrop((224,224)),\n",
    "                                                                transforms.Normalize(\n",
    "                                                                    (58.0583, 55.1679, 52.9831),\n",
    "                                                                    (85.9875, 82.3628, 80.8718))\n",
    "                                                                    ]))\n",
    "data2=CustomImageDataset(df=train,transform=transforms.Compose([transforms.Resize(256),\n",
    "                                                                transforms.CenterCrop((224,224)),\n",
    "                                                                transforms.ColorJitter(\n",
    "                                                                    brightness=0.6, contrast=1.3, saturation=1.1, hue=.2),\n",
    "                                                                transforms.Normalize(\n",
    "                                                                    (58.0583, 55.1679, 52.9831),\n",
    "                                                                    (85.9875, 82.3628, 80.8718)),\n",
    "                                                                    ]))\n",
    "data3=CustomImageDataset(df=train,transform=transforms.Compose([transforms.Resize(256),\n",
    "                                                                transforms.CenterCrop((224,224)),\n",
    "                                                                transforms.ColorJitter(\n",
    "                                                                    brightness=1.3, contrast=.5, saturation=.5),\n",
    "                                                                transforms.RandomHorizontalFlip(p=1),\n",
    "                                                                transforms.Normalize(\n",
    "                                                                    (58.0583, 55.1679, 52.9831),\n",
    "                                                                    (85.9875, 82.3628, 80.8718))\n",
    "                                                                    ]))\n",
    "data4=CustomImageDataset(df=train,transform=transforms.Compose([transforms.Resize(256),\n",
    "                                                                transforms.CenterCrop((224,224)),\n",
    "                                                                transforms.ColorJitter(\n",
    "                                                                    brightness=.5, contrast=.5, saturation=.5),\n",
    "                                                                transforms.RandomVerticalFlip(p=1),\n",
    "                                                                transforms.Normalize(\n",
    "                                                                    (58.0583, 55.1679, 52.9831),\n",
    "                                                                    (85.9875, 82.3628, 80.8718))\n",
    "                                                                    ]))\n",
    "data5=CustomImageDataset(df=train,transform=transforms.Compose([transforms.Resize((400,400)),\n",
    "                                                                transforms.RandomRotation(degrees = 160),\n",
    "                                                                transforms.CenterCrop((224,224)),\n",
    "                                                                transforms.Normalize(\n",
    "                                                                    (58.0583, 55.1679, 52.9831),\n",
    "                                                                    (85.9875, 82.3628, 80.8718))\n",
    "                                                                    ]))\n",
    "data6=CustomImageDataset(df=train,transform=transforms.Compose([transforms.Resize(400),\n",
    "                                                                transforms.RandomRotation(degrees = 45),\n",
    "                                                                transforms.CenterCrop((224,224)),\n",
    "                                                                transforms.RandomHorizontalFlip(p=1),\n",
    "                                                                transforms.Normalize(\n",
    "                                                                    (58.0583, 55.1679, 52.9831),\n",
    "                                                                    (85.9875, 82.3628, 80.8718))\n",
    "                                                                    ]))\n",
    "data7=CustomImageDataset(df=train,transform=transforms.Compose([transforms.RandomVerticalFlip(p=1),\n",
    "                                                                transforms.RandomHorizontalFlip(p=1),\n",
    "                                                                transforms.Resize((224,224)),\n",
    "                                                                transforms.ColorJitter(\n",
    "                                                                    brightness=.5, contrast=.5, saturation=.5),\n",
    "                                                                transforms.Normalize(\n",
    "                                                                    (58.0583, 55.1679, 52.9831),\n",
    "                                                                    (85.9875, 82.3628, 80.8718))\n",
    "                                                                    ]))"
   ]
  },
  {
   "cell_type": "code",
   "execution_count": 31,
   "metadata": {},
   "outputs": [],
   "source": [
    "# Crear un conjunto de datos combinado\n",
    "conjunto_datos = ConcatDataset((data1,data2,data3,data4,data5,data6,data7))\n"
   ]
  },
  {
   "cell_type": "code",
   "execution_count": 32,
   "metadata": {},
   "outputs": [
    {
     "name": "stdout",
     "output_type": "stream",
     "text": [
      "Train: 2396 Val: 600\n"
     ]
    }
   ],
   "source": [
    "# Determinar el tamaño de los conjuntos de entrenamiento y validación\n",
    "valor_train = int(0.8*len(conjunto_datos))\n",
    "valor_val = len(conjunto_datos)-valor_train\n",
    "\n",
    "print(f\"Train: {valor_train} Val: {valor_val}\")\n"
   ]
  },
  {
   "cell_type": "code",
   "execution_count": 33,
   "metadata": {},
   "outputs": [],
   "source": [
    "# Dividir el conjunto de datos en conjuntos de entrenamiento y validación\n",
    "\n",
    "train_data,val_data=torch.utils.data.random_split(ConcatDataset((data1,data2,data3,data4,data5,data6,data7)),[valor_train,valor_val])\n",
    "\n",
    "del data1,data2,data3,data4,data5,data6,data7"
   ]
  },
  {
   "cell_type": "code",
   "execution_count": 34,
   "metadata": {},
   "outputs": [],
   "source": [
    "# Crear los dataloaders\n",
    "\n",
    "batch_size=64\n",
    "train_dataloader = DataLoader(train_data, batch_size=batch_size, shuffle=True)\n",
    "val_dataloader = DataLoader(val_data, batch_size=batch_size, shuffle=True)"
   ]
  },
  {
   "cell_type": "markdown",
   "metadata": {},
   "source": [
    "## Red neuronal"
   ]
  },
  {
   "cell_type": "code",
   "execution_count": 42,
   "metadata": {},
   "outputs": [],
   "source": [
    "class NeuralNetwork(nn.Module):\n",
    "    def __init__(self):\n",
    "        super(NeuralNetwork, self).__init__()\n",
    "        self.image_features_ = nn.Sequential(\n",
    "            nn.Conv2d(3, 16, kernel_size=5, stride=2, padding=2),\n",
    "            nn.ReLU(inplace=True),\n",
    "            nn.MaxPool2d(kernel_size=3, stride=2),\n",
    "            nn.Dropout(),\n",
    "\n",
    "            nn.Conv2d(16, 128, kernel_size=5, padding=2),\n",
    "            nn.ReLU(inplace=True),\n",
    "            nn.MaxPool2d(kernel_size=3, stride=2),\n",
    "            nn.Dropout(),\n",
    "\n",
    "            nn.Conv2d(128, 256, kernel_size=5, padding=2),\n",
    "            nn.ReLU(inplace=True),\n",
    "            nn.MaxPool2d(kernel_size=3, stride=2),\n",
    "            nn.Dropout(),\n",
    "\n",
    "            nn.Conv2d(256, 128, kernel_size=5, padding=2),\n",
    "            nn.ReLU(inplace=True),\n",
    "            nn.MaxPool2d(kernel_size=3, stride=2),\n",
    "\n",
    "            nn.Conv2d(128, 64, kernel_size=5, padding=2),\n",
    "            nn.ReLU(inplace=True),\n",
    "            nn.MaxPool2d(kernel_size=2, stride=2),\n",
    "        )\n",
    "        self.numeric_features_ = nn.Sequential(\n",
    "            nn.Linear(4, 64),\n",
    "            nn.ReLU(inplace=True),\n",
    "            nn.Dropout(),\n",
    "            nn.Linear(64, 64*3),\n",
    "            nn.ReLU(inplace=True),\n",
    "            nn.Dropout(),\n",
    "            nn.Linear(64*3, 64*3*3),\n",
    "            nn.ReLU(inplace=True),\n",
    "        )\n",
    "        self.combined_features_ = nn.Sequential(\n",
    "            nn.Linear(64*3*3*2, 64*3*3*2*2),\n",
    "            nn.ReLU(inplace=True),\n",
    "            nn.Dropout(),\n",
    "            nn.Linear(64*3*3*2*2, 64*3*3*2),\n",
    "            nn.ReLU(inplace=True),\n",
    "            nn.Linear(64*3*3*2, 64),\n",
    "            nn.Linear(64, 1),\n",
    "        )\n",
    "\n",
    "    def forward(self, x,y):\n",
    "        x = self.image_features_(x)\n",
    "        x=x.view(-1, 64*3*3)\n",
    "        y=self.numeric_features_(y)\n",
    "        z=torch.cat((x,y),1)\n",
    "        z=self.combined_features_(z)\n",
    "        return z.squeeze(1)"
   ]
  },
  {
   "cell_type": "code",
   "execution_count": 43,
   "metadata": {},
   "outputs": [
    {
     "name": "stdout",
     "output_type": "stream",
     "text": [
      "Using cpu device\n"
     ]
    }
   ],
   "source": [
    "# Definir el dispositivo\n",
    "device = 'cuda' if torch.cuda.is_available() else 'cpu'\n",
    "print('Using {} device'.format(device))\n",
    "\n",
    "# Definir el modelo, la función de pérdida y el optimizador\n",
    "model = NeuralNetwork().to(device)              # Modelo de red neuronal mandarlo al dispositivo (GPU)\n",
    "optimizer=optim.Adam(model.parameters(),1e-3)   # Adam optimizer para optimización\n",
    "loss_fn=nn.MSELoss()                            # Mean Squared Error Loss para regresión"
   ]
  },
  {
   "cell_type": "markdown",
   "metadata": {},
   "source": [
    "## Ciclos de entrenamiento y pruebas"
   ]
  },
  {
   "cell_type": "code",
   "execution_count": 44,
   "metadata": {},
   "outputs": [],
   "source": [
    "def test_loop(dataloader, model, loss_fn):\n",
    "    size = len(dataloader.dataset)\n",
    "    num_batches = len(dataloader)\n",
    "    test_loss, correct = 0, 0\n",
    "\n",
    "    with torch.no_grad():\n",
    "        for imgs,numeric_features, price in dataloader:\n",
    "            imgs=imgs.to(device)\n",
    "            numeric_features=numeric_features.to(device)\n",
    "            price = price.to(device)\n",
    "            pred = model(imgs,numeric_features)\n",
    "            test_loss += loss_fn(pred, price).item()\n",
    "            correct += (pred.argmax(1) == price).type(torch.float).sum().item()\n",
    "\n",
    "    test_loss /= num_batches\n",
    "    correct /= size\n",
    "    print(f\"Test Error: \\n Accuracy: {(100*correct):>0.1f}%, Avg loss: {test_loss:>8f} \\n\")"
   ]
  },
  {
   "cell_type": "code",
   "execution_count": 45,
   "metadata": {},
   "outputs": [],
   "source": [
    "def training_loop(n_epochs, optimizer, model, loss_fn, train_loader, val_loader):\n",
    "    for epoch in range(1,n_epochs+1):\n",
    "        loss_train = 0.0\n",
    "        for imgs,numeric_features, price in train_loader:\n",
    "            imgs=imgs.to(device)\n",
    "            numeric_features=numeric_features.to(device)\n",
    "            price = price.to(device)\n",
    "            output=model(imgs, numeric_features)\n",
    "\n",
    "            \n",
    "            loss=loss_fn(output, price)\n",
    "            \n",
    "            #L2 Regularization\n",
    "            l2_lambda=0.001\n",
    "            l2_norm=sum(p.pow(2).sum() for p in model.parameters())\n",
    "            loss=loss+l2_lambda*l2_norm\n",
    "\n",
    "            optimizer.zero_grad()\n",
    "            loss.backward()\n",
    "            optimizer.step()\n",
    "\n",
    "            loss_train += loss.item()\n",
    "\n",
    "        if epoch == 1 or epoch % 10 == 0:\n",
    "            print('{} Epoch {}, Training loss {}'.format(datetime.datetime.now(), epoch, loss_train / len(train_loader)))\n",
    "            test_loop(dataloader=val_loader, model=model, loss_fn=loss_fn)"
   ]
  },
  {
   "cell_type": "markdown",
   "metadata": {},
   "source": [
    "## Entrenamiento"
   ]
  },
  {
   "cell_type": "code",
   "execution_count": 46,
   "metadata": {},
   "outputs": [
    {
     "ename": "KeyboardInterrupt",
     "evalue": "",
     "output_type": "error",
     "traceback": [
      "\u001b[1;31m---------------------------------------------------------------------------\u001b[0m",
      "\u001b[1;31mKeyboardInterrupt\u001b[0m                         Traceback (most recent call last)",
      "Cell \u001b[1;32mIn[46], line 1\u001b[0m\n\u001b[1;32m----> 1\u001b[0m \u001b[43mtraining_loop\u001b[49m\u001b[43m(\u001b[49m\n\u001b[0;32m      2\u001b[0m \u001b[43mn_epochs\u001b[49m\u001b[43m \u001b[49m\u001b[38;5;241;43m=\u001b[39;49m\u001b[43m \u001b[49m\u001b[38;5;241;43m100\u001b[39;49m\u001b[43m,\u001b[49m\n\u001b[0;32m      3\u001b[0m \u001b[43moptimizer\u001b[49m\u001b[43m \u001b[49m\u001b[38;5;241;43m=\u001b[39;49m\u001b[43m \u001b[49m\u001b[43moptimizer\u001b[49m\u001b[43m,\u001b[49m\n\u001b[0;32m      4\u001b[0m \u001b[43mmodel\u001b[49m\u001b[43m \u001b[49m\u001b[38;5;241;43m=\u001b[39;49m\u001b[43m \u001b[49m\u001b[43mmodel\u001b[49m\u001b[43m,\u001b[49m\n\u001b[0;32m      5\u001b[0m \u001b[43mloss_fn\u001b[49m\u001b[43m \u001b[49m\u001b[38;5;241;43m=\u001b[39;49m\u001b[43m \u001b[49m\u001b[43mloss_fn\u001b[49m\u001b[43m,\u001b[49m\n\u001b[0;32m      6\u001b[0m \u001b[43mtrain_loader\u001b[49m\u001b[43m \u001b[49m\u001b[38;5;241;43m=\u001b[39;49m\u001b[43m \u001b[49m\u001b[43mtrain_dataloader\u001b[49m\u001b[43m,\u001b[49m\n\u001b[0;32m      7\u001b[0m \u001b[43mval_loader\u001b[49m\u001b[38;5;241;43m=\u001b[39;49m\u001b[43mval_dataloader\u001b[49m\u001b[43m)\u001b[49m\n",
      "Cell \u001b[1;32mIn[45], line 4\u001b[0m, in \u001b[0;36mtraining_loop\u001b[1;34m(n_epochs, optimizer, model, loss_fn, train_loader, val_loader)\u001b[0m\n\u001b[0;32m      2\u001b[0m \u001b[38;5;28;01mfor\u001b[39;00m epoch \u001b[38;5;129;01min\u001b[39;00m \u001b[38;5;28mrange\u001b[39m(\u001b[38;5;241m1\u001b[39m,n_epochs\u001b[38;5;241m+\u001b[39m\u001b[38;5;241m1\u001b[39m):\n\u001b[0;32m      3\u001b[0m     loss_train \u001b[38;5;241m=\u001b[39m \u001b[38;5;241m0.0\u001b[39m\n\u001b[1;32m----> 4\u001b[0m \u001b[43m    \u001b[49m\u001b[38;5;28;43;01mfor\u001b[39;49;00m\u001b[43m \u001b[49m\u001b[43mimgs\u001b[49m\u001b[43m,\u001b[49m\u001b[43mnumeric_features\u001b[49m\u001b[43m,\u001b[49m\u001b[43m \u001b[49m\u001b[43mprice\u001b[49m\u001b[43m \u001b[49m\u001b[38;5;129;43;01min\u001b[39;49;00m\u001b[43m \u001b[49m\u001b[43mtrain_loader\u001b[49m\u001b[43m:\u001b[49m\n\u001b[0;32m      5\u001b[0m \u001b[43m        \u001b[49m\u001b[43mimgs\u001b[49m\u001b[38;5;241;43m=\u001b[39;49m\u001b[43mimgs\u001b[49m\u001b[38;5;241;43m.\u001b[39;49m\u001b[43mto\u001b[49m\u001b[43m(\u001b[49m\u001b[43mdevice\u001b[49m\u001b[43m)\u001b[49m\n\u001b[0;32m      6\u001b[0m \u001b[43m        \u001b[49m\u001b[43mnumeric_features\u001b[49m\u001b[38;5;241;43m=\u001b[39;49m\u001b[43mnumeric_features\u001b[49m\u001b[38;5;241;43m.\u001b[39;49m\u001b[43mto\u001b[49m\u001b[43m(\u001b[49m\u001b[43mdevice\u001b[49m\u001b[43m)\u001b[49m\n",
      "File \u001b[1;32mc:\\Users\\uriel\\OneDrive\\Escritorio\\Uriel\\IPN\\ESCOM\\TT\\Codigo\\my_code\\.venv\\Lib\\site-packages\\torch\\utils\\data\\dataloader.py:631\u001b[0m, in \u001b[0;36m_BaseDataLoaderIter.__next__\u001b[1;34m(self)\u001b[0m\n\u001b[0;32m    628\u001b[0m \u001b[38;5;28;01mif\u001b[39;00m \u001b[38;5;28mself\u001b[39m\u001b[38;5;241m.\u001b[39m_sampler_iter \u001b[38;5;129;01mis\u001b[39;00m \u001b[38;5;28;01mNone\u001b[39;00m:\n\u001b[0;32m    629\u001b[0m     \u001b[38;5;66;03m# TODO(https://github.com/pytorch/pytorch/issues/76750)\u001b[39;00m\n\u001b[0;32m    630\u001b[0m     \u001b[38;5;28mself\u001b[39m\u001b[38;5;241m.\u001b[39m_reset()  \u001b[38;5;66;03m# type: ignore[call-arg]\u001b[39;00m\n\u001b[1;32m--> 631\u001b[0m data \u001b[38;5;241m=\u001b[39m \u001b[38;5;28;43mself\u001b[39;49m\u001b[38;5;241;43m.\u001b[39;49m\u001b[43m_next_data\u001b[49m\u001b[43m(\u001b[49m\u001b[43m)\u001b[49m\n\u001b[0;32m    632\u001b[0m \u001b[38;5;28mself\u001b[39m\u001b[38;5;241m.\u001b[39m_num_yielded \u001b[38;5;241m+\u001b[39m\u001b[38;5;241m=\u001b[39m \u001b[38;5;241m1\u001b[39m\n\u001b[0;32m    633\u001b[0m \u001b[38;5;28;01mif\u001b[39;00m \u001b[38;5;28mself\u001b[39m\u001b[38;5;241m.\u001b[39m_dataset_kind \u001b[38;5;241m==\u001b[39m _DatasetKind\u001b[38;5;241m.\u001b[39mIterable \u001b[38;5;129;01mand\u001b[39;00m \\\n\u001b[0;32m    634\u001b[0m         \u001b[38;5;28mself\u001b[39m\u001b[38;5;241m.\u001b[39m_IterableDataset_len_called \u001b[38;5;129;01mis\u001b[39;00m \u001b[38;5;129;01mnot\u001b[39;00m \u001b[38;5;28;01mNone\u001b[39;00m \u001b[38;5;129;01mand\u001b[39;00m \\\n\u001b[0;32m    635\u001b[0m         \u001b[38;5;28mself\u001b[39m\u001b[38;5;241m.\u001b[39m_num_yielded \u001b[38;5;241m>\u001b[39m \u001b[38;5;28mself\u001b[39m\u001b[38;5;241m.\u001b[39m_IterableDataset_len_called:\n",
      "File \u001b[1;32mc:\\Users\\uriel\\OneDrive\\Escritorio\\Uriel\\IPN\\ESCOM\\TT\\Codigo\\my_code\\.venv\\Lib\\site-packages\\torch\\utils\\data\\dataloader.py:675\u001b[0m, in \u001b[0;36m_SingleProcessDataLoaderIter._next_data\u001b[1;34m(self)\u001b[0m\n\u001b[0;32m    673\u001b[0m \u001b[38;5;28;01mdef\u001b[39;00m \u001b[38;5;21m_next_data\u001b[39m(\u001b[38;5;28mself\u001b[39m):\n\u001b[0;32m    674\u001b[0m     index \u001b[38;5;241m=\u001b[39m \u001b[38;5;28mself\u001b[39m\u001b[38;5;241m.\u001b[39m_next_index()  \u001b[38;5;66;03m# may raise StopIteration\u001b[39;00m\n\u001b[1;32m--> 675\u001b[0m     data \u001b[38;5;241m=\u001b[39m \u001b[38;5;28;43mself\u001b[39;49m\u001b[38;5;241;43m.\u001b[39;49m\u001b[43m_dataset_fetcher\u001b[49m\u001b[38;5;241;43m.\u001b[39;49m\u001b[43mfetch\u001b[49m\u001b[43m(\u001b[49m\u001b[43mindex\u001b[49m\u001b[43m)\u001b[49m  \u001b[38;5;66;03m# may raise StopIteration\u001b[39;00m\n\u001b[0;32m    676\u001b[0m     \u001b[38;5;28;01mif\u001b[39;00m \u001b[38;5;28mself\u001b[39m\u001b[38;5;241m.\u001b[39m_pin_memory:\n\u001b[0;32m    677\u001b[0m         data \u001b[38;5;241m=\u001b[39m _utils\u001b[38;5;241m.\u001b[39mpin_memory\u001b[38;5;241m.\u001b[39mpin_memory(data, \u001b[38;5;28mself\u001b[39m\u001b[38;5;241m.\u001b[39m_pin_memory_device)\n",
      "File \u001b[1;32mc:\\Users\\uriel\\OneDrive\\Escritorio\\Uriel\\IPN\\ESCOM\\TT\\Codigo\\my_code\\.venv\\Lib\\site-packages\\torch\\utils\\data\\_utils\\fetch.py:49\u001b[0m, in \u001b[0;36m_MapDatasetFetcher.fetch\u001b[1;34m(self, possibly_batched_index)\u001b[0m\n\u001b[0;32m     47\u001b[0m \u001b[38;5;28;01mif\u001b[39;00m \u001b[38;5;28mself\u001b[39m\u001b[38;5;241m.\u001b[39mauto_collation:\n\u001b[0;32m     48\u001b[0m     \u001b[38;5;28;01mif\u001b[39;00m \u001b[38;5;28mhasattr\u001b[39m(\u001b[38;5;28mself\u001b[39m\u001b[38;5;241m.\u001b[39mdataset, \u001b[38;5;124m\"\u001b[39m\u001b[38;5;124m__getitems__\u001b[39m\u001b[38;5;124m\"\u001b[39m) \u001b[38;5;129;01mand\u001b[39;00m \u001b[38;5;28mself\u001b[39m\u001b[38;5;241m.\u001b[39mdataset\u001b[38;5;241m.\u001b[39m__getitems__:\n\u001b[1;32m---> 49\u001b[0m         data \u001b[38;5;241m=\u001b[39m \u001b[38;5;28;43mself\u001b[39;49m\u001b[38;5;241;43m.\u001b[39;49m\u001b[43mdataset\u001b[49m\u001b[38;5;241;43m.\u001b[39;49m\u001b[43m__getitems__\u001b[49m\u001b[43m(\u001b[49m\u001b[43mpossibly_batched_index\u001b[49m\u001b[43m)\u001b[49m\n\u001b[0;32m     50\u001b[0m     \u001b[38;5;28;01melse\u001b[39;00m:\n\u001b[0;32m     51\u001b[0m         data \u001b[38;5;241m=\u001b[39m [\u001b[38;5;28mself\u001b[39m\u001b[38;5;241m.\u001b[39mdataset[idx] \u001b[38;5;28;01mfor\u001b[39;00m idx \u001b[38;5;129;01min\u001b[39;00m possibly_batched_index]\n",
      "File \u001b[1;32mc:\\Users\\uriel\\OneDrive\\Escritorio\\Uriel\\IPN\\ESCOM\\TT\\Codigo\\my_code\\.venv\\Lib\\site-packages\\torch\\utils\\data\\dataset.py:399\u001b[0m, in \u001b[0;36mSubset.__getitems__\u001b[1;34m(self, indices)\u001b[0m\n\u001b[0;32m    397\u001b[0m     \u001b[38;5;28;01mreturn\u001b[39;00m \u001b[38;5;28mself\u001b[39m\u001b[38;5;241m.\u001b[39mdataset\u001b[38;5;241m.\u001b[39m__getitems__([\u001b[38;5;28mself\u001b[39m\u001b[38;5;241m.\u001b[39mindices[idx] \u001b[38;5;28;01mfor\u001b[39;00m idx \u001b[38;5;129;01min\u001b[39;00m indices])  \u001b[38;5;66;03m# type: ignore[attr-defined]\u001b[39;00m\n\u001b[0;32m    398\u001b[0m \u001b[38;5;28;01melse\u001b[39;00m:\n\u001b[1;32m--> 399\u001b[0m     \u001b[38;5;28;01mreturn\u001b[39;00m \u001b[43m[\u001b[49m\u001b[38;5;28;43mself\u001b[39;49m\u001b[38;5;241;43m.\u001b[39;49m\u001b[43mdataset\u001b[49m\u001b[43m[\u001b[49m\u001b[38;5;28;43mself\u001b[39;49m\u001b[38;5;241;43m.\u001b[39;49m\u001b[43mindices\u001b[49m\u001b[43m[\u001b[49m\u001b[43midx\u001b[49m\u001b[43m]\u001b[49m\u001b[43m]\u001b[49m\u001b[43m \u001b[49m\u001b[38;5;28;43;01mfor\u001b[39;49;00m\u001b[43m \u001b[49m\u001b[43midx\u001b[49m\u001b[43m \u001b[49m\u001b[38;5;129;43;01min\u001b[39;49;00m\u001b[43m \u001b[49m\u001b[43mindices\u001b[49m\u001b[43m]\u001b[49m\n",
      "File \u001b[1;32mc:\\Users\\uriel\\OneDrive\\Escritorio\\Uriel\\IPN\\ESCOM\\TT\\Codigo\\my_code\\.venv\\Lib\\site-packages\\torch\\utils\\data\\dataset.py:399\u001b[0m, in \u001b[0;36m<listcomp>\u001b[1;34m(.0)\u001b[0m\n\u001b[0;32m    397\u001b[0m     \u001b[38;5;28;01mreturn\u001b[39;00m \u001b[38;5;28mself\u001b[39m\u001b[38;5;241m.\u001b[39mdataset\u001b[38;5;241m.\u001b[39m__getitems__([\u001b[38;5;28mself\u001b[39m\u001b[38;5;241m.\u001b[39mindices[idx] \u001b[38;5;28;01mfor\u001b[39;00m idx \u001b[38;5;129;01min\u001b[39;00m indices])  \u001b[38;5;66;03m# type: ignore[attr-defined]\u001b[39;00m\n\u001b[0;32m    398\u001b[0m \u001b[38;5;28;01melse\u001b[39;00m:\n\u001b[1;32m--> 399\u001b[0m     \u001b[38;5;28;01mreturn\u001b[39;00m [\u001b[38;5;28;43mself\u001b[39;49m\u001b[38;5;241;43m.\u001b[39;49m\u001b[43mdataset\u001b[49m\u001b[43m[\u001b[49m\u001b[38;5;28;43mself\u001b[39;49m\u001b[38;5;241;43m.\u001b[39;49m\u001b[43mindices\u001b[49m\u001b[43m[\u001b[49m\u001b[43midx\u001b[49m\u001b[43m]\u001b[49m\u001b[43m]\u001b[49m \u001b[38;5;28;01mfor\u001b[39;00m idx \u001b[38;5;129;01min\u001b[39;00m indices]\n",
      "File \u001b[1;32mc:\\Users\\uriel\\OneDrive\\Escritorio\\Uriel\\IPN\\ESCOM\\TT\\Codigo\\my_code\\.venv\\Lib\\site-packages\\torch\\utils\\data\\dataset.py:335\u001b[0m, in \u001b[0;36mConcatDataset.__getitem__\u001b[1;34m(self, idx)\u001b[0m\n\u001b[0;32m    333\u001b[0m \u001b[38;5;28;01melse\u001b[39;00m:\n\u001b[0;32m    334\u001b[0m     sample_idx \u001b[38;5;241m=\u001b[39m idx \u001b[38;5;241m-\u001b[39m \u001b[38;5;28mself\u001b[39m\u001b[38;5;241m.\u001b[39mcumulative_sizes[dataset_idx \u001b[38;5;241m-\u001b[39m \u001b[38;5;241m1\u001b[39m]\n\u001b[1;32m--> 335\u001b[0m \u001b[38;5;28;01mreturn\u001b[39;00m \u001b[38;5;28;43mself\u001b[39;49m\u001b[38;5;241;43m.\u001b[39;49m\u001b[43mdatasets\u001b[49m\u001b[43m[\u001b[49m\u001b[43mdataset_idx\u001b[49m\u001b[43m]\u001b[49m\u001b[43m[\u001b[49m\u001b[43msample_idx\u001b[49m\u001b[43m]\u001b[49m\n",
      "Cell \u001b[1;32mIn[29], line 42\u001b[0m, in \u001b[0;36mCustomImageDataset.__getitem__\u001b[1;34m(self, idx)\u001b[0m\n\u001b[0;32m     37\u001b[0m \u001b[38;5;66;03m# --> Aplicar transformaciones a las imágenes si se proporcionan\u001b[39;00m\n\u001b[0;32m     38\u001b[0m \u001b[38;5;28;01mif\u001b[39;00m \u001b[38;5;28mself\u001b[39m\u001b[38;5;241m.\u001b[39mtransform:\n\u001b[0;32m     39\u001b[0m     \u001b[38;5;66;03m# bathroom_image = self.transform(bathroom_image)\u001b[39;00m\n\u001b[0;32m     40\u001b[0m     \u001b[38;5;66;03m# kitchen_image = self.transform(kitchen_image)\u001b[39;00m\n\u001b[0;32m     41\u001b[0m     \u001b[38;5;66;03m# bedroom_image = self.transform(bedroom_image)\u001b[39;00m\n\u001b[1;32m---> 42\u001b[0m     frontal_image \u001b[38;5;241m=\u001b[39m \u001b[38;5;28;43mself\u001b[39;49m\u001b[38;5;241;43m.\u001b[39;49m\u001b[43mtransform\u001b[49m\u001b[43m(\u001b[49m\u001b[43mfrontal_image\u001b[49m\u001b[43m)\u001b[49m\n\u001b[0;32m     44\u001b[0m \u001b[38;5;66;03m# --> Concatenar las características numéricas estandarizadas en un solo tensor\u001b[39;00m\n\u001b[0;32m     45\u001b[0m numeric_features \u001b[38;5;241m=\u001b[39m torch\u001b[38;5;241m.\u001b[39mhstack((bathrooms, bedrooms, area, zipcode))\n",
      "File \u001b[1;32mc:\\Users\\uriel\\OneDrive\\Escritorio\\Uriel\\IPN\\ESCOM\\TT\\Codigo\\my_code\\.venv\\Lib\\site-packages\\torchvision\\transforms\\transforms.py:95\u001b[0m, in \u001b[0;36mCompose.__call__\u001b[1;34m(self, img)\u001b[0m\n\u001b[0;32m     93\u001b[0m \u001b[38;5;28;01mdef\u001b[39;00m \u001b[38;5;21m__call__\u001b[39m(\u001b[38;5;28mself\u001b[39m, img):\n\u001b[0;32m     94\u001b[0m     \u001b[38;5;28;01mfor\u001b[39;00m t \u001b[38;5;129;01min\u001b[39;00m \u001b[38;5;28mself\u001b[39m\u001b[38;5;241m.\u001b[39mtransforms:\n\u001b[1;32m---> 95\u001b[0m         img \u001b[38;5;241m=\u001b[39m \u001b[43mt\u001b[49m\u001b[43m(\u001b[49m\u001b[43mimg\u001b[49m\u001b[43m)\u001b[49m\n\u001b[0;32m     96\u001b[0m     \u001b[38;5;28;01mreturn\u001b[39;00m img\n",
      "File \u001b[1;32mc:\\Users\\uriel\\OneDrive\\Escritorio\\Uriel\\IPN\\ESCOM\\TT\\Codigo\\my_code\\.venv\\Lib\\site-packages\\torch\\nn\\modules\\module.py:1511\u001b[0m, in \u001b[0;36mModule._wrapped_call_impl\u001b[1;34m(self, *args, **kwargs)\u001b[0m\n\u001b[0;32m   1509\u001b[0m     \u001b[38;5;28;01mreturn\u001b[39;00m \u001b[38;5;28mself\u001b[39m\u001b[38;5;241m.\u001b[39m_compiled_call_impl(\u001b[38;5;241m*\u001b[39margs, \u001b[38;5;241m*\u001b[39m\u001b[38;5;241m*\u001b[39mkwargs)  \u001b[38;5;66;03m# type: ignore[misc]\u001b[39;00m\n\u001b[0;32m   1510\u001b[0m \u001b[38;5;28;01melse\u001b[39;00m:\n\u001b[1;32m-> 1511\u001b[0m     \u001b[38;5;28;01mreturn\u001b[39;00m \u001b[38;5;28;43mself\u001b[39;49m\u001b[38;5;241;43m.\u001b[39;49m\u001b[43m_call_impl\u001b[49m\u001b[43m(\u001b[49m\u001b[38;5;241;43m*\u001b[39;49m\u001b[43margs\u001b[49m\u001b[43m,\u001b[49m\u001b[43m \u001b[49m\u001b[38;5;241;43m*\u001b[39;49m\u001b[38;5;241;43m*\u001b[39;49m\u001b[43mkwargs\u001b[49m\u001b[43m)\u001b[49m\n",
      "File \u001b[1;32mc:\\Users\\uriel\\OneDrive\\Escritorio\\Uriel\\IPN\\ESCOM\\TT\\Codigo\\my_code\\.venv\\Lib\\site-packages\\torch\\nn\\modules\\module.py:1520\u001b[0m, in \u001b[0;36mModule._call_impl\u001b[1;34m(self, *args, **kwargs)\u001b[0m\n\u001b[0;32m   1515\u001b[0m \u001b[38;5;66;03m# If we don't have any hooks, we want to skip the rest of the logic in\u001b[39;00m\n\u001b[0;32m   1516\u001b[0m \u001b[38;5;66;03m# this function, and just call forward.\u001b[39;00m\n\u001b[0;32m   1517\u001b[0m \u001b[38;5;28;01mif\u001b[39;00m \u001b[38;5;129;01mnot\u001b[39;00m (\u001b[38;5;28mself\u001b[39m\u001b[38;5;241m.\u001b[39m_backward_hooks \u001b[38;5;129;01mor\u001b[39;00m \u001b[38;5;28mself\u001b[39m\u001b[38;5;241m.\u001b[39m_backward_pre_hooks \u001b[38;5;129;01mor\u001b[39;00m \u001b[38;5;28mself\u001b[39m\u001b[38;5;241m.\u001b[39m_forward_hooks \u001b[38;5;129;01mor\u001b[39;00m \u001b[38;5;28mself\u001b[39m\u001b[38;5;241m.\u001b[39m_forward_pre_hooks\n\u001b[0;32m   1518\u001b[0m         \u001b[38;5;129;01mor\u001b[39;00m _global_backward_pre_hooks \u001b[38;5;129;01mor\u001b[39;00m _global_backward_hooks\n\u001b[0;32m   1519\u001b[0m         \u001b[38;5;129;01mor\u001b[39;00m _global_forward_hooks \u001b[38;5;129;01mor\u001b[39;00m _global_forward_pre_hooks):\n\u001b[1;32m-> 1520\u001b[0m     \u001b[38;5;28;01mreturn\u001b[39;00m \u001b[43mforward_call\u001b[49m\u001b[43m(\u001b[49m\u001b[38;5;241;43m*\u001b[39;49m\u001b[43margs\u001b[49m\u001b[43m,\u001b[49m\u001b[43m \u001b[49m\u001b[38;5;241;43m*\u001b[39;49m\u001b[38;5;241;43m*\u001b[39;49m\u001b[43mkwargs\u001b[49m\u001b[43m)\u001b[49m\n\u001b[0;32m   1522\u001b[0m \u001b[38;5;28;01mtry\u001b[39;00m:\n\u001b[0;32m   1523\u001b[0m     result \u001b[38;5;241m=\u001b[39m \u001b[38;5;28;01mNone\u001b[39;00m\n",
      "File \u001b[1;32mc:\\Users\\uriel\\OneDrive\\Escritorio\\Uriel\\IPN\\ESCOM\\TT\\Codigo\\my_code\\.venv\\Lib\\site-packages\\torchvision\\transforms\\transforms.py:1274\u001b[0m, in \u001b[0;36mColorJitter.forward\u001b[1;34m(self, img)\u001b[0m\n\u001b[0;32m   1272\u001b[0m \u001b[38;5;28;01mfor\u001b[39;00m fn_id \u001b[38;5;129;01min\u001b[39;00m fn_idx:\n\u001b[0;32m   1273\u001b[0m     \u001b[38;5;28;01mif\u001b[39;00m fn_id \u001b[38;5;241m==\u001b[39m \u001b[38;5;241m0\u001b[39m \u001b[38;5;129;01mand\u001b[39;00m brightness_factor \u001b[38;5;129;01mis\u001b[39;00m \u001b[38;5;129;01mnot\u001b[39;00m \u001b[38;5;28;01mNone\u001b[39;00m:\n\u001b[1;32m-> 1274\u001b[0m         img \u001b[38;5;241m=\u001b[39m \u001b[43mF\u001b[49m\u001b[38;5;241;43m.\u001b[39;49m\u001b[43madjust_brightness\u001b[49m\u001b[43m(\u001b[49m\u001b[43mimg\u001b[49m\u001b[43m,\u001b[49m\u001b[43m \u001b[49m\u001b[43mbrightness_factor\u001b[49m\u001b[43m)\u001b[49m\n\u001b[0;32m   1275\u001b[0m     \u001b[38;5;28;01melif\u001b[39;00m fn_id \u001b[38;5;241m==\u001b[39m \u001b[38;5;241m1\u001b[39m \u001b[38;5;129;01mand\u001b[39;00m contrast_factor \u001b[38;5;129;01mis\u001b[39;00m \u001b[38;5;129;01mnot\u001b[39;00m \u001b[38;5;28;01mNone\u001b[39;00m:\n\u001b[0;32m   1276\u001b[0m         img \u001b[38;5;241m=\u001b[39m F\u001b[38;5;241m.\u001b[39madjust_contrast(img, contrast_factor)\n",
      "File \u001b[1;32mc:\\Users\\uriel\\OneDrive\\Escritorio\\Uriel\\IPN\\ESCOM\\TT\\Codigo\\my_code\\.venv\\Lib\\site-packages\\torchvision\\transforms\\functional.py:872\u001b[0m, in \u001b[0;36madjust_brightness\u001b[1;34m(img, brightness_factor)\u001b[0m\n\u001b[0;32m    869\u001b[0m \u001b[38;5;28;01mif\u001b[39;00m \u001b[38;5;129;01mnot\u001b[39;00m \u001b[38;5;28misinstance\u001b[39m(img, torch\u001b[38;5;241m.\u001b[39mTensor):\n\u001b[0;32m    870\u001b[0m     \u001b[38;5;28;01mreturn\u001b[39;00m F_pil\u001b[38;5;241m.\u001b[39madjust_brightness(img, brightness_factor)\n\u001b[1;32m--> 872\u001b[0m \u001b[38;5;28;01mreturn\u001b[39;00m \u001b[43mF_t\u001b[49m\u001b[38;5;241;43m.\u001b[39;49m\u001b[43madjust_brightness\u001b[49m\u001b[43m(\u001b[49m\u001b[43mimg\u001b[49m\u001b[43m,\u001b[49m\u001b[43m \u001b[49m\u001b[43mbrightness_factor\u001b[49m\u001b[43m)\u001b[49m\n",
      "File \u001b[1;32mc:\\Users\\uriel\\OneDrive\\Escritorio\\Uriel\\IPN\\ESCOM\\TT\\Codigo\\my_code\\.venv\\Lib\\site-packages\\torchvision\\transforms\\_functional_tensor.py:177\u001b[0m, in \u001b[0;36madjust_brightness\u001b[1;34m(img, brightness_factor)\u001b[0m\n\u001b[0;32m    173\u001b[0m _assert_image_tensor(img)\n\u001b[0;32m    175\u001b[0m _assert_channels(img, [\u001b[38;5;241m1\u001b[39m, \u001b[38;5;241m3\u001b[39m])\n\u001b[1;32m--> 177\u001b[0m \u001b[38;5;28;01mreturn\u001b[39;00m \u001b[43m_blend\u001b[49m\u001b[43m(\u001b[49m\u001b[43mimg\u001b[49m\u001b[43m,\u001b[49m\u001b[43m \u001b[49m\u001b[43mtorch\u001b[49m\u001b[38;5;241;43m.\u001b[39;49m\u001b[43mzeros_like\u001b[49m\u001b[43m(\u001b[49m\u001b[43mimg\u001b[49m\u001b[43m)\u001b[49m\u001b[43m,\u001b[49m\u001b[43m \u001b[49m\u001b[43mbrightness_factor\u001b[49m\u001b[43m)\u001b[49m\n",
      "File \u001b[1;32mc:\\Users\\uriel\\OneDrive\\Escritorio\\Uriel\\IPN\\ESCOM\\TT\\Codigo\\my_code\\.venv\\Lib\\site-packages\\torchvision\\transforms\\_functional_tensor.py:259\u001b[0m, in \u001b[0;36m_blend\u001b[1;34m(img1, img2, ratio)\u001b[0m\n\u001b[0;32m    257\u001b[0m ratio \u001b[38;5;241m=\u001b[39m \u001b[38;5;28mfloat\u001b[39m(ratio)\n\u001b[0;32m    258\u001b[0m bound \u001b[38;5;241m=\u001b[39m _max_value(img1\u001b[38;5;241m.\u001b[39mdtype)\n\u001b[1;32m--> 259\u001b[0m \u001b[38;5;28;01mreturn\u001b[39;00m \u001b[43m(\u001b[49m\u001b[43mratio\u001b[49m\u001b[43m \u001b[49m\u001b[38;5;241;43m*\u001b[39;49m\u001b[43m \u001b[49m\u001b[43mimg1\u001b[49m\u001b[43m \u001b[49m\u001b[38;5;241;43m+\u001b[39;49m\u001b[43m \u001b[49m\u001b[43m(\u001b[49m\u001b[38;5;241;43m1.0\u001b[39;49m\u001b[43m \u001b[49m\u001b[38;5;241;43m-\u001b[39;49m\u001b[43m \u001b[49m\u001b[43mratio\u001b[49m\u001b[43m)\u001b[49m\u001b[43m \u001b[49m\u001b[38;5;241;43m*\u001b[39;49m\u001b[43m \u001b[49m\u001b[43mimg2\u001b[49m\u001b[43m)\u001b[49m\u001b[38;5;241;43m.\u001b[39;49m\u001b[43mclamp\u001b[49m\u001b[43m(\u001b[49m\u001b[38;5;241;43m0\u001b[39;49m\u001b[43m,\u001b[49m\u001b[43m \u001b[49m\u001b[43mbound\u001b[49m\u001b[43m)\u001b[49m\u001b[38;5;241m.\u001b[39mto(img1\u001b[38;5;241m.\u001b[39mdtype)\n",
      "\u001b[1;31mKeyboardInterrupt\u001b[0m: "
     ]
    }
   ],
   "source": [
    "training_loop(\n",
    "n_epochs = 100,\n",
    "optimizer = optimizer,\n",
    "model = model,\n",
    "loss_fn = loss_fn,\n",
    "train_loader = train_dataloader,\n",
    "val_loader=val_dataloader)"
   ]
  }
 ],
 "metadata": {
  "kernelspec": {
   "display_name": "houses_predict",
   "language": "python",
   "name": "python3"
  },
  "language_info": {
   "codemirror_mode": {
    "name": "ipython",
    "version": 3
   },
   "file_extension": ".py",
   "mimetype": "text/x-python",
   "name": "python",
   "nbconvert_exporter": "python",
   "pygments_lexer": "ipython3",
   "version": "3.11.8"
  }
 },
 "nbformat": 4,
 "nbformat_minor": 2
}
