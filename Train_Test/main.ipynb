{
 "cells": [
  {
   "cell_type": "markdown",
   "metadata": {},
   "source": [
    "## Bibliotecas"
   ]
  },
  {
   "cell_type": "code",
   "execution_count": 1,
   "metadata": {},
   "outputs": [],
   "source": [
    "import pandas as pd\n",
    "import numpy as np\n",
    "from sklearn.preprocessing import LabelEncoder\n",
    "import torch\n",
    "from torchvision.io import read_image\n",
    "from torchvision import transforms, utils\n",
    "from torch.utils.data import Dataset, DataLoader,ConcatDataset\n",
    "from sklearn.preprocessing import LabelEncoder\n",
    "from torch import nn\n",
    "from torch import optim\n",
    "import datetime\n",
    "from sklearn.preprocessing import StandardScaler"
   ]
  },
  {
   "cell_type": "markdown",
   "metadata": {},
   "source": [
    "## Lectura de dataset train y test"
   ]
  },
  {
   "cell_type": "code",
   "execution_count": 2,
   "metadata": {},
   "outputs": [
    {
     "data": {
      "text/html": [
       "<div>\n",
       "<style scoped>\n",
       "    .dataframe tbody tr th:only-of-type {\n",
       "        vertical-align: middle;\n",
       "    }\n",
       "\n",
       "    .dataframe tbody tr th {\n",
       "        vertical-align: top;\n",
       "    }\n",
       "\n",
       "    .dataframe thead th {\n",
       "        text-align: right;\n",
       "    }\n",
       "</style>\n",
       "<table border=\"1\" class=\"dataframe\">\n",
       "  <thead>\n",
       "    <tr style=\"text-align: right;\">\n",
       "      <th></th>\n",
       "      <th>bathrooms</th>\n",
       "      <th>bedrooms</th>\n",
       "      <th>area</th>\n",
       "      <th>zipcode</th>\n",
       "      <th>bathroom_image</th>\n",
       "      <th>kitchen_image</th>\n",
       "      <th>bedroom_image</th>\n",
       "      <th>frontal_image</th>\n",
       "      <th>price</th>\n",
       "    </tr>\n",
       "  </thead>\n",
       "  <tbody>\n",
       "    <tr>\n",
       "      <th>0</th>\n",
       "      <td>5.0</td>\n",
       "      <td>5</td>\n",
       "      <td>3816</td>\n",
       "      <td>92880</td>\n",
       "      <td>285_bathroom.jpg</td>\n",
       "      <td>285_kitchen.jpg</td>\n",
       "      <td>285_bedroom.jpg</td>\n",
       "      <td>285_frontal.jpg</td>\n",
       "      <td>589900</td>\n",
       "    </tr>\n",
       "    <tr>\n",
       "      <th>1</th>\n",
       "      <td>2.0</td>\n",
       "      <td>2</td>\n",
       "      <td>1440</td>\n",
       "      <td>92276</td>\n",
       "      <td>348_bathroom.jpg</td>\n",
       "      <td>348_kitchen.jpg</td>\n",
       "      <td>348_bedroom.jpg</td>\n",
       "      <td>348_frontal.jpg</td>\n",
       "      <td>106000</td>\n",
       "    </tr>\n",
       "    <tr>\n",
       "      <th>2</th>\n",
       "      <td>3.0</td>\n",
       "      <td>4</td>\n",
       "      <td>1625</td>\n",
       "      <td>93510</td>\n",
       "      <td>441_bathroom.jpg</td>\n",
       "      <td>441_kitchen.jpg</td>\n",
       "      <td>441_bedroom.jpg</td>\n",
       "      <td>441_frontal.jpg</td>\n",
       "      <td>639000</td>\n",
       "    </tr>\n",
       "    <tr>\n",
       "      <th>3</th>\n",
       "      <td>3.0</td>\n",
       "      <td>4</td>\n",
       "      <td>2454</td>\n",
       "      <td>93510</td>\n",
       "      <td>422_bathroom.jpg</td>\n",
       "      <td>422_kitchen.jpg</td>\n",
       "      <td>422_bedroom.jpg</td>\n",
       "      <td>422_frontal.jpg</td>\n",
       "      <td>5858000</td>\n",
       "    </tr>\n",
       "    <tr>\n",
       "      <th>4</th>\n",
       "      <td>4.5</td>\n",
       "      <td>4</td>\n",
       "      <td>4038</td>\n",
       "      <td>92677</td>\n",
       "      <td>150_bathroom.jpg</td>\n",
       "      <td>150_kitchen.jpg</td>\n",
       "      <td>150_bedroom.jpg</td>\n",
       "      <td>150_frontal.jpg</td>\n",
       "      <td>1795000</td>\n",
       "    </tr>\n",
       "  </tbody>\n",
       "</table>\n",
       "</div>"
      ],
      "text/plain": [
       "   bathrooms  bedrooms  area  zipcode    bathroom_image    kitchen_image  \\\n",
       "0        5.0         5  3816    92880  285_bathroom.jpg  285_kitchen.jpg   \n",
       "1        2.0         2  1440    92276  348_bathroom.jpg  348_kitchen.jpg   \n",
       "2        3.0         4  1625    93510  441_bathroom.jpg  441_kitchen.jpg   \n",
       "3        3.0         4  2454    93510  422_bathroom.jpg  422_kitchen.jpg   \n",
       "4        4.5         4  4038    92677  150_bathroom.jpg  150_kitchen.jpg   \n",
       "\n",
       "     bedroom_image    frontal_image    price  \n",
       "0  285_bedroom.jpg  285_frontal.jpg   589900  \n",
       "1  348_bedroom.jpg  348_frontal.jpg   106000  \n",
       "2  441_bedroom.jpg  441_frontal.jpg   639000  \n",
       "3  422_bedroom.jpg  422_frontal.jpg  5858000  \n",
       "4  150_bedroom.jpg  150_frontal.jpg  1795000  "
      ]
     },
     "execution_count": 2,
     "metadata": {},
     "output_type": "execute_result"
    }
   ],
   "source": [
    "train = pd.read_csv('../Dataset/train.csv')\n",
    "test = pd.read_csv('../Dataset/test.csv')\n",
    "\n",
    "train.head()"
   ]
  },
  {
   "cell_type": "code",
   "execution_count": 3,
   "metadata": {},
   "outputs": [
    {
     "name": "stdout",
     "output_type": "stream",
     "text": [
      "<class 'pandas.core.frame.DataFrame'>\n",
      "RangeIndex: 428 entries, 0 to 427\n",
      "Data columns (total 9 columns):\n",
      " #   Column          Non-Null Count  Dtype  \n",
      "---  ------          --------------  -----  \n",
      " 0   bathrooms       428 non-null    float64\n",
      " 1   bedrooms        428 non-null    int64  \n",
      " 2   area            428 non-null    int64  \n",
      " 3   zipcode         428 non-null    int64  \n",
      " 4   bathroom_image  428 non-null    object \n",
      " 5   kitchen_image   428 non-null    object \n",
      " 6   bedroom_image   428 non-null    object \n",
      " 7   frontal_image   428 non-null    object \n",
      " 8   price           428 non-null    int64  \n",
      "dtypes: float64(1), int64(4), object(4)\n",
      "memory usage: 30.2+ KB\n"
     ]
    }
   ],
   "source": [
    "train.info()"
   ]
  },
  {
   "cell_type": "markdown",
   "metadata": {},
   "source": [
    "## Preparar Dataset"
   ]
  },
  {
   "cell_type": "code",
   "execution_count": 38,
   "metadata": {},
   "outputs": [],
   "source": [
    "class CustomImageDataset(Dataset):\n",
    "    def __init__(self, df, transform=None):\n",
    "        self.df = df                # DataFrame que contiene los datos\n",
    "        self.transform = transform  # Transformaciones opcionales para las imágenes\n",
    "\n",
    "        # --> Seleccionar las columnas que se van a estandarizar\n",
    "        self.numeric_features = ['bedrooms', 'bathrooms', 'area', 'zipcode']\n",
    "        \n",
    "        # --> Inicializar el estandarizador y ajustarlo a los datos\n",
    "        self.scaler = StandardScaler()\n",
    "        self.df[self.numeric_features] = self.scaler.fit_transform(self.df[self.numeric_features])\n",
    "\n",
    "    def __len__(self):\n",
    "        return len(self.df)\n",
    "\n",
    "    # --> Método para obtener una muestra del conjunto de datos dado un índice\n",
    "    def __getitem__(self, idx):\n",
    "        # --> Obtener las rutas de las imágenes para baño, cocina, dormitorio y frontal\n",
    "        # bathroom_img_path = self.df.loc[idx, 'bathroom_image']\n",
    "        # kitchen_img_path = self.df.loc[idx, 'kitchen_image']\n",
    "        # bedroom_img_path = self.df.loc[idx, 'bedroom_image']\n",
    "        frontal_img_path = self.df.loc[idx, 'frontal_image']\n",
    "        \n",
    "        # --> Leer las imágenes desde las rutas especificadas y convertirlas a tensores float\n",
    "        # bathroom_image = read_image(bathroom_img_path).float()\n",
    "        # kitchen_image = read_image(kitchen_img_path).float()\n",
    "        # bedroom_image = read_image(bedroom_img_path).float()\n",
    "        frontal_image = read_image(f\"../Dataset/Houses-dataset/Houses Dataset/{frontal_img_path}\").float()\n",
    "        \n",
    "        # --> Obtener los valores de las características numéricas estandarizadas desde el DataFrame\n",
    "        bathrooms = torch.tensor(self.df.loc[idx, 'bathrooms'], dtype=torch.float32)\n",
    "        bedrooms = torch.tensor(self.df.loc[idx, 'bedrooms'], dtype=torch.float32)\n",
    "        area = torch.tensor(self.df.loc[idx, 'area'], dtype=torch.float32)\n",
    "        zipcode = torch.tensor(self.df.loc[idx, 'zipcode'], dtype=torch.float32)\n",
    "        price = torch.tensor(self.df.loc[idx, 'price'], dtype=torch.float32)\n",
    "        \n",
    "        # --> Aplicar transformaciones a las imágenes si se proporcionan\n",
    "        if self.transform:\n",
    "            # bathroom_image = self.transform(bathroom_image)\n",
    "            # kitchen_image = self.transform(kitchen_image)\n",
    "            # bedroom_image = self.transform(bedroom_image)\n",
    "            frontal_image = self.transform(frontal_image)\n",
    "        \n",
    "        # --> Concatenar las características numéricas estandarizadas en un solo tensor\n",
    "        numeric_features = torch.hstack((bathrooms, bedrooms, area, zipcode))\n",
    "        \n",
    "        # --> Crear un diccionario de las imágenes\n",
    "        # images = {\n",
    "        #     'bathroom': bathroom_image,\n",
    "        #     'kitchen': kitchen_image,\n",
    "        #     'bedroom': bedroom_image,\n",
    "        #     'frontal': frontal_image\n",
    "        # }\n",
    "        \n",
    "        # Devolver las imágenes, las características numéricas y el precio\n",
    "        return frontal_image, numeric_features, price"
   ]
  },
  {
   "cell_type": "markdown",
   "metadata": {},
   "source": [
    "## Aumentar datos"
   ]
  },
  {
   "cell_type": "code",
   "execution_count": 39,
   "metadata": {},
   "outputs": [],
   "source": [
    "data1=CustomImageDataset(df=train,transform=transforms.Compose([transforms.Resize(256),\n",
    "                                                                transforms.RandomCrop((224,224)),\n",
    "                                                                transforms.Normalize(\n",
    "                                                                    (58.0583, 55.1679, 52.9831),\n",
    "                                                                    (85.9875, 82.3628, 80.8718))\n",
    "                                                                    ]))\n",
    "data2=CustomImageDataset(df=train,transform=transforms.Compose([transforms.Resize(256),\n",
    "                                                                transforms.CenterCrop((224,224)),\n",
    "                                                                transforms.ColorJitter(\n",
    "                                                                    brightness=0.6, contrast=1.3, saturation=1.1, hue=.2),\n",
    "                                                                transforms.Normalize(\n",
    "                                                                    (58.0583, 55.1679, 52.9831),\n",
    "                                                                    (85.9875, 82.3628, 80.8718)),\n",
    "                                                                    ]))\n",
    "data3=CustomImageDataset(df=train,transform=transforms.Compose([transforms.Resize(256),\n",
    "                                                                transforms.CenterCrop((224,224)),\n",
    "                                                                transforms.ColorJitter(\n",
    "                                                                    brightness=1.3, contrast=.5, saturation=.5),\n",
    "                                                                transforms.RandomHorizontalFlip(p=1),\n",
    "                                                                transforms.Normalize(\n",
    "                                                                    (58.0583, 55.1679, 52.9831),\n",
    "                                                                    (85.9875, 82.3628, 80.8718))\n",
    "                                                                    ]))\n",
    "data4=CustomImageDataset(df=train,transform=transforms.Compose([transforms.Resize(256),\n",
    "                                                                transforms.CenterCrop((224,224)),\n",
    "                                                                transforms.ColorJitter(\n",
    "                                                                    brightness=.5, contrast=.5, saturation=.5),\n",
    "                                                                transforms.RandomVerticalFlip(p=1),\n",
    "                                                                transforms.Normalize(\n",
    "                                                                    (58.0583, 55.1679, 52.9831),\n",
    "                                                                    (85.9875, 82.3628, 80.8718))\n",
    "                                                                    ]))\n",
    "data5=CustomImageDataset(df=train,transform=transforms.Compose([transforms.Resize((400,400)),\n",
    "                                                                transforms.RandomRotation(degrees = 160),\n",
    "                                                                transforms.CenterCrop((224,224)),\n",
    "                                                                transforms.Normalize(\n",
    "                                                                    (58.0583, 55.1679, 52.9831),\n",
    "                                                                    (85.9875, 82.3628, 80.8718))\n",
    "                                                                    ]))\n",
    "data6=CustomImageDataset(df=train,transform=transforms.Compose([transforms.Resize(400),\n",
    "                                                                transforms.RandomRotation(degrees = 45),\n",
    "                                                                transforms.CenterCrop((224,224)),\n",
    "                                                                transforms.RandomHorizontalFlip(p=1),\n",
    "                                                                transforms.Normalize(\n",
    "                                                                    (58.0583, 55.1679, 52.9831),\n",
    "                                                                    (85.9875, 82.3628, 80.8718))\n",
    "                                                                    ]))\n",
    "data7=CustomImageDataset(df=train,transform=transforms.Compose([transforms.RandomVerticalFlip(p=1),\n",
    "                                                                transforms.RandomHorizontalFlip(p=1),\n",
    "                                                                transforms.Resize((224,224)),\n",
    "                                                                transforms.ColorJitter(\n",
    "                                                                    brightness=.5, contrast=.5, saturation=.5),\n",
    "                                                                transforms.Normalize(\n",
    "                                                                    (58.0583, 55.1679, 52.9831),\n",
    "                                                                    (85.9875, 82.3628, 80.8718))\n",
    "                                                                    ]))"
   ]
  },
  {
   "cell_type": "code",
   "execution_count": 40,
   "metadata": {},
   "outputs": [],
   "source": [
    "# Crear un conjunto de datos combinado\n",
    "conjunto_datos = ConcatDataset((data1,data2,data3,data4,data5,data6,data7))\n"
   ]
  },
  {
   "cell_type": "code",
   "execution_count": 41,
   "metadata": {},
   "outputs": [
    {
     "name": "stdout",
     "output_type": "stream",
     "text": [
      "Train: 2396 Val: 600\n"
     ]
    }
   ],
   "source": [
    "# Determinar el tamaño de los conjuntos de entrenamiento y validación\n",
    "valor_train = int(0.8*len(conjunto_datos))\n",
    "valor_val = len(conjunto_datos)-valor_train\n",
    "\n",
    "print(f\"Train: {valor_train} Val: {valor_val}\")\n"
   ]
  },
  {
   "cell_type": "code",
   "execution_count": 42,
   "metadata": {},
   "outputs": [],
   "source": [
    "# Dividir el conjunto de datos en conjuntos de entrenamiento y validación\n",
    "\n",
    "train_data,val_data=torch.utils.data.random_split(ConcatDataset((data1,data2,data3,data4,data5,data6,data7)),[valor_train,valor_val])\n",
    "\n",
    "del data1,data2,data3,data4,data5,data6,data7"
   ]
  },
  {
   "cell_type": "code",
   "execution_count": 43,
   "metadata": {},
   "outputs": [],
   "source": [
    "# Crear los dataloaders\n",
    "\n",
    "batch_size=64\n",
    "train_dataloader = DataLoader(train_data, batch_size=batch_size, shuffle=True)\n",
    "val_dataloader = DataLoader(val_data, batch_size=batch_size, shuffle=True)"
   ]
  },
  {
   "cell_type": "markdown",
   "metadata": {},
   "source": [
    "## Red neuronal"
   ]
  },
  {
   "cell_type": "code",
   "execution_count": 44,
   "metadata": {},
   "outputs": [],
   "source": [
    "class NeuralNetwork(nn.Module):\n",
    "    def __init__(self):\n",
    "        super(NeuralNetwork, self).__init__()\n",
    "        self.image_features_ = nn.Sequential(\n",
    "            nn.Conv2d(3, 16, kernel_size=5, stride=2, padding=2),\n",
    "            nn.ReLU(inplace=True),\n",
    "            nn.MaxPool2d(kernel_size=3, stride=2),\n",
    "            nn.Dropout(),\n",
    "\n",
    "            nn.Conv2d(16, 128, kernel_size=5, padding=2),\n",
    "            nn.ReLU(inplace=True),\n",
    "            nn.MaxPool2d(kernel_size=3, stride=2),\n",
    "            nn.Dropout(),\n",
    "\n",
    "            nn.Conv2d(128, 256, kernel_size=5, padding=2),\n",
    "            nn.ReLU(inplace=True),\n",
    "            nn.MaxPool2d(kernel_size=3, stride=2),\n",
    "            nn.Dropout(),\n",
    "\n",
    "            nn.Conv2d(256, 128, kernel_size=5, padding=2),\n",
    "            nn.ReLU(inplace=True),\n",
    "            nn.MaxPool2d(kernel_size=3, stride=2),\n",
    "\n",
    "            nn.Conv2d(128, 64, kernel_size=5, padding=2),\n",
    "            nn.ReLU(inplace=True),\n",
    "            nn.MaxPool2d(kernel_size=2, stride=2),\n",
    "        )\n",
    "        self.numeric_features_ = nn.Sequential(\n",
    "            nn.Linear(4, 64),\n",
    "            nn.ReLU(inplace=True),\n",
    "            nn.Dropout(),\n",
    "            nn.Linear(64, 64*3),\n",
    "            nn.ReLU(inplace=True),\n",
    "            nn.Dropout(),\n",
    "            nn.Linear(64*3, 64*3*3),\n",
    "            nn.ReLU(inplace=True),\n",
    "        )\n",
    "        self.combined_features_ = nn.Sequential(\n",
    "            nn.Linear(64*3*3*2, 64*3*3*2*2),\n",
    "            nn.ReLU(inplace=True),\n",
    "            nn.Dropout(),\n",
    "            nn.Linear(64*3*3*2*2, 64*3*3*2),\n",
    "            nn.ReLU(inplace=True),\n",
    "            nn.Linear(64*3*3*2, 64),\n",
    "            nn.Linear(64, 5),\n",
    "        )\n",
    "\n",
    "    def forward(self, x,y):\n",
    "        x = self.image_features_(x)\n",
    "        x=x.view(-1, 64*3*3)\n",
    "        y=self.numeric_features_(y)\n",
    "        z=torch.cat((x,y),1)\n",
    "        z=self.combined_features_(z)\n",
    "        return z"
   ]
  },
  {
   "cell_type": "code",
   "execution_count": 45,
   "metadata": {},
   "outputs": [
    {
     "name": "stdout",
     "output_type": "stream",
     "text": [
      "Using cpu device\n"
     ]
    }
   ],
   "source": [
    "# Definir el dispositivo\n",
    "\n",
    "device = 'cuda' if torch.cuda.is_available() else 'cpu'\n",
    "print('Using {} device'.format(device))\n",
    "\n",
    "model = NeuralNetwork().to(device)\n",
    "optimizer=optim.Adam(model.parameters(),1e-3)\n",
    "loss_fn=nn.CrossEntropyLoss()"
   ]
  },
  {
   "cell_type": "markdown",
   "metadata": {},
   "source": [
    "## Ciclos de entrenamiento y pruebas"
   ]
  },
  {
   "cell_type": "code",
   "execution_count": 46,
   "metadata": {},
   "outputs": [],
   "source": [
    "def test_loop(dataloader, model, loss_fn):\n",
    "    size = len(dataloader.dataset)\n",
    "    num_batches = len(dataloader)\n",
    "    test_loss, correct = 0, 0\n",
    "\n",
    "    with torch.no_grad():\n",
    "        for imgs,numeric_features, price in dataloader:\n",
    "            imgs=imgs.to(device)\n",
    "            numeric_features=numeric_features.to(device)\n",
    "            price = price.to(device)\n",
    "            pred = model(imgs,numeric_features)\n",
    "            test_loss += loss_fn(pred, price).item()\n",
    "            correct += (pred.argmax(1) == price).type(torch.float).sum().item()\n",
    "\n",
    "    test_loss /= num_batches\n",
    "    correct /= size\n",
    "    print(f\"Test Error: \\n Accuracy: {(100*correct):>0.1f}%, Avg loss: {test_loss:>8f} \\n\")"
   ]
  },
  {
   "cell_type": "code",
   "execution_count": 47,
   "metadata": {},
   "outputs": [],
   "source": [
    "def training_loop(n_epochs, optimizer, model, loss_fn, train_loader, val_loader):\n",
    "    for epoch in range(1,n_epochs+1):\n",
    "        loss_train = 0.0\n",
    "        for imgs,numeric_features, price in train_loader:\n",
    "            imgs=imgs.to(device)\n",
    "            numeric_features=numeric_features.to(device)\n",
    "            price = price.to(device)\n",
    "            output=model(imgs, numeric_features)\n",
    "\n",
    "            \n",
    "            loss=loss_fn(output, price)\n",
    "            \n",
    "            #L2 Regularization\n",
    "            l2_lambda=0.001\n",
    "            l2_norm=sum(p.pow(2).sum() for p in model.parameters())\n",
    "            loss=loss+l2_lambda*l2_norm\n",
    "\n",
    "            optimizer.zero_grad()\n",
    "            loss.backward()\n",
    "            optimizer.step()\n",
    "\n",
    "            loss_train += loss.item()\n",
    "\n",
    "        if epoch == 1 or epoch % 10 == 0:\n",
    "            print('{} Epoch {}, Training loss {}'.format(datetime.datetime.now(), epoch, loss_train / len(train_loader)))\n",
    "            test_loop(dataloader=val_loader, model=model, loss_fn=loss_fn)"
   ]
  },
  {
   "cell_type": "markdown",
   "metadata": {},
   "source": [
    "## Entrenamiento"
   ]
  },
  {
   "cell_type": "code",
   "execution_count": 48,
   "metadata": {},
   "outputs": [
    {
     "ename": "RuntimeError",
     "evalue": "expected scalar type Long but found Float",
     "output_type": "error",
     "traceback": [
      "\u001b[1;31m---------------------------------------------------------------------------\u001b[0m",
      "\u001b[1;31mRuntimeError\u001b[0m                              Traceback (most recent call last)",
      "Cell \u001b[1;32mIn[48], line 1\u001b[0m\n\u001b[1;32m----> 1\u001b[0m \u001b[43mtraining_loop\u001b[49m\u001b[43m(\u001b[49m\n\u001b[0;32m      2\u001b[0m \u001b[43mn_epochs\u001b[49m\u001b[43m \u001b[49m\u001b[38;5;241;43m=\u001b[39;49m\u001b[43m \u001b[49m\u001b[38;5;241;43m100\u001b[39;49m\u001b[43m,\u001b[49m\n\u001b[0;32m      3\u001b[0m \u001b[43moptimizer\u001b[49m\u001b[43m \u001b[49m\u001b[38;5;241;43m=\u001b[39;49m\u001b[43m \u001b[49m\u001b[43moptimizer\u001b[49m\u001b[43m,\u001b[49m\n\u001b[0;32m      4\u001b[0m \u001b[43mmodel\u001b[49m\u001b[43m \u001b[49m\u001b[38;5;241;43m=\u001b[39;49m\u001b[43m \u001b[49m\u001b[43mmodel\u001b[49m\u001b[43m,\u001b[49m\n\u001b[0;32m      5\u001b[0m \u001b[43mloss_fn\u001b[49m\u001b[43m \u001b[49m\u001b[38;5;241;43m=\u001b[39;49m\u001b[43m \u001b[49m\u001b[43mloss_fn\u001b[49m\u001b[43m,\u001b[49m\n\u001b[0;32m      6\u001b[0m \u001b[43mtrain_loader\u001b[49m\u001b[43m \u001b[49m\u001b[38;5;241;43m=\u001b[39;49m\u001b[43m \u001b[49m\u001b[43mtrain_dataloader\u001b[49m\u001b[43m,\u001b[49m\n\u001b[0;32m      7\u001b[0m \u001b[43mval_loader\u001b[49m\u001b[38;5;241;43m=\u001b[39;49m\u001b[43mval_dataloader\u001b[49m\u001b[43m)\u001b[49m\n",
      "Cell \u001b[1;32mIn[47], line 11\u001b[0m, in \u001b[0;36mtraining_loop\u001b[1;34m(n_epochs, optimizer, model, loss_fn, train_loader, val_loader)\u001b[0m\n\u001b[0;32m      7\u001b[0m price \u001b[38;5;241m=\u001b[39m price\u001b[38;5;241m.\u001b[39mto(device)\n\u001b[0;32m      8\u001b[0m output\u001b[38;5;241m=\u001b[39mmodel(imgs, numeric_features)\n\u001b[1;32m---> 11\u001b[0m loss\u001b[38;5;241m=\u001b[39m\u001b[43mloss_fn\u001b[49m\u001b[43m(\u001b[49m\u001b[43moutput\u001b[49m\u001b[43m,\u001b[49m\u001b[43m \u001b[49m\u001b[43mprice\u001b[49m\u001b[43m)\u001b[49m\n\u001b[0;32m     13\u001b[0m \u001b[38;5;66;03m#L2 Regularization\u001b[39;00m\n\u001b[0;32m     14\u001b[0m l2_lambda\u001b[38;5;241m=\u001b[39m\u001b[38;5;241m0.001\u001b[39m\n",
      "File \u001b[1;32mc:\\Users\\uriel\\OneDrive\\Escritorio\\Uriel\\IPN\\ESCOM\\TT\\Codigo\\my_code\\.venv\\Lib\\site-packages\\torch\\nn\\modules\\module.py:1511\u001b[0m, in \u001b[0;36mModule._wrapped_call_impl\u001b[1;34m(self, *args, **kwargs)\u001b[0m\n\u001b[0;32m   1509\u001b[0m     \u001b[38;5;28;01mreturn\u001b[39;00m \u001b[38;5;28mself\u001b[39m\u001b[38;5;241m.\u001b[39m_compiled_call_impl(\u001b[38;5;241m*\u001b[39margs, \u001b[38;5;241m*\u001b[39m\u001b[38;5;241m*\u001b[39mkwargs)  \u001b[38;5;66;03m# type: ignore[misc]\u001b[39;00m\n\u001b[0;32m   1510\u001b[0m \u001b[38;5;28;01melse\u001b[39;00m:\n\u001b[1;32m-> 1511\u001b[0m     \u001b[38;5;28;01mreturn\u001b[39;00m \u001b[38;5;28;43mself\u001b[39;49m\u001b[38;5;241;43m.\u001b[39;49m\u001b[43m_call_impl\u001b[49m\u001b[43m(\u001b[49m\u001b[38;5;241;43m*\u001b[39;49m\u001b[43margs\u001b[49m\u001b[43m,\u001b[49m\u001b[43m \u001b[49m\u001b[38;5;241;43m*\u001b[39;49m\u001b[38;5;241;43m*\u001b[39;49m\u001b[43mkwargs\u001b[49m\u001b[43m)\u001b[49m\n",
      "File \u001b[1;32mc:\\Users\\uriel\\OneDrive\\Escritorio\\Uriel\\IPN\\ESCOM\\TT\\Codigo\\my_code\\.venv\\Lib\\site-packages\\torch\\nn\\modules\\module.py:1520\u001b[0m, in \u001b[0;36mModule._call_impl\u001b[1;34m(self, *args, **kwargs)\u001b[0m\n\u001b[0;32m   1515\u001b[0m \u001b[38;5;66;03m# If we don't have any hooks, we want to skip the rest of the logic in\u001b[39;00m\n\u001b[0;32m   1516\u001b[0m \u001b[38;5;66;03m# this function, and just call forward.\u001b[39;00m\n\u001b[0;32m   1517\u001b[0m \u001b[38;5;28;01mif\u001b[39;00m \u001b[38;5;129;01mnot\u001b[39;00m (\u001b[38;5;28mself\u001b[39m\u001b[38;5;241m.\u001b[39m_backward_hooks \u001b[38;5;129;01mor\u001b[39;00m \u001b[38;5;28mself\u001b[39m\u001b[38;5;241m.\u001b[39m_backward_pre_hooks \u001b[38;5;129;01mor\u001b[39;00m \u001b[38;5;28mself\u001b[39m\u001b[38;5;241m.\u001b[39m_forward_hooks \u001b[38;5;129;01mor\u001b[39;00m \u001b[38;5;28mself\u001b[39m\u001b[38;5;241m.\u001b[39m_forward_pre_hooks\n\u001b[0;32m   1518\u001b[0m         \u001b[38;5;129;01mor\u001b[39;00m _global_backward_pre_hooks \u001b[38;5;129;01mor\u001b[39;00m _global_backward_hooks\n\u001b[0;32m   1519\u001b[0m         \u001b[38;5;129;01mor\u001b[39;00m _global_forward_hooks \u001b[38;5;129;01mor\u001b[39;00m _global_forward_pre_hooks):\n\u001b[1;32m-> 1520\u001b[0m     \u001b[38;5;28;01mreturn\u001b[39;00m \u001b[43mforward_call\u001b[49m\u001b[43m(\u001b[49m\u001b[38;5;241;43m*\u001b[39;49m\u001b[43margs\u001b[49m\u001b[43m,\u001b[49m\u001b[43m \u001b[49m\u001b[38;5;241;43m*\u001b[39;49m\u001b[38;5;241;43m*\u001b[39;49m\u001b[43mkwargs\u001b[49m\u001b[43m)\u001b[49m\n\u001b[0;32m   1522\u001b[0m \u001b[38;5;28;01mtry\u001b[39;00m:\n\u001b[0;32m   1523\u001b[0m     result \u001b[38;5;241m=\u001b[39m \u001b[38;5;28;01mNone\u001b[39;00m\n",
      "File \u001b[1;32mc:\\Users\\uriel\\OneDrive\\Escritorio\\Uriel\\IPN\\ESCOM\\TT\\Codigo\\my_code\\.venv\\Lib\\site-packages\\torch\\nn\\modules\\loss.py:1179\u001b[0m, in \u001b[0;36mCrossEntropyLoss.forward\u001b[1;34m(self, input, target)\u001b[0m\n\u001b[0;32m   1178\u001b[0m \u001b[38;5;28;01mdef\u001b[39;00m \u001b[38;5;21mforward\u001b[39m(\u001b[38;5;28mself\u001b[39m, \u001b[38;5;28minput\u001b[39m: Tensor, target: Tensor) \u001b[38;5;241m-\u001b[39m\u001b[38;5;241m>\u001b[39m Tensor:\n\u001b[1;32m-> 1179\u001b[0m     \u001b[38;5;28;01mreturn\u001b[39;00m \u001b[43mF\u001b[49m\u001b[38;5;241;43m.\u001b[39;49m\u001b[43mcross_entropy\u001b[49m\u001b[43m(\u001b[49m\u001b[38;5;28;43minput\u001b[39;49m\u001b[43m,\u001b[49m\u001b[43m \u001b[49m\u001b[43mtarget\u001b[49m\u001b[43m,\u001b[49m\u001b[43m \u001b[49m\u001b[43mweight\u001b[49m\u001b[38;5;241;43m=\u001b[39;49m\u001b[38;5;28;43mself\u001b[39;49m\u001b[38;5;241;43m.\u001b[39;49m\u001b[43mweight\u001b[49m\u001b[43m,\u001b[49m\n\u001b[0;32m   1180\u001b[0m \u001b[43m                           \u001b[49m\u001b[43mignore_index\u001b[49m\u001b[38;5;241;43m=\u001b[39;49m\u001b[38;5;28;43mself\u001b[39;49m\u001b[38;5;241;43m.\u001b[39;49m\u001b[43mignore_index\u001b[49m\u001b[43m,\u001b[49m\u001b[43m \u001b[49m\u001b[43mreduction\u001b[49m\u001b[38;5;241;43m=\u001b[39;49m\u001b[38;5;28;43mself\u001b[39;49m\u001b[38;5;241;43m.\u001b[39;49m\u001b[43mreduction\u001b[49m\u001b[43m,\u001b[49m\n\u001b[0;32m   1181\u001b[0m \u001b[43m                           \u001b[49m\u001b[43mlabel_smoothing\u001b[49m\u001b[38;5;241;43m=\u001b[39;49m\u001b[38;5;28;43mself\u001b[39;49m\u001b[38;5;241;43m.\u001b[39;49m\u001b[43mlabel_smoothing\u001b[49m\u001b[43m)\u001b[49m\n",
      "File \u001b[1;32mc:\\Users\\uriel\\OneDrive\\Escritorio\\Uriel\\IPN\\ESCOM\\TT\\Codigo\\my_code\\.venv\\Lib\\site-packages\\torch\\nn\\functional.py:3059\u001b[0m, in \u001b[0;36mcross_entropy\u001b[1;34m(input, target, weight, size_average, ignore_index, reduce, reduction, label_smoothing)\u001b[0m\n\u001b[0;32m   3057\u001b[0m \u001b[38;5;28;01mif\u001b[39;00m size_average \u001b[38;5;129;01mis\u001b[39;00m \u001b[38;5;129;01mnot\u001b[39;00m \u001b[38;5;28;01mNone\u001b[39;00m \u001b[38;5;129;01mor\u001b[39;00m reduce \u001b[38;5;129;01mis\u001b[39;00m \u001b[38;5;129;01mnot\u001b[39;00m \u001b[38;5;28;01mNone\u001b[39;00m:\n\u001b[0;32m   3058\u001b[0m     reduction \u001b[38;5;241m=\u001b[39m _Reduction\u001b[38;5;241m.\u001b[39mlegacy_get_string(size_average, reduce)\n\u001b[1;32m-> 3059\u001b[0m \u001b[38;5;28;01mreturn\u001b[39;00m \u001b[43mtorch\u001b[49m\u001b[38;5;241;43m.\u001b[39;49m\u001b[43m_C\u001b[49m\u001b[38;5;241;43m.\u001b[39;49m\u001b[43m_nn\u001b[49m\u001b[38;5;241;43m.\u001b[39;49m\u001b[43mcross_entropy_loss\u001b[49m\u001b[43m(\u001b[49m\u001b[38;5;28;43minput\u001b[39;49m\u001b[43m,\u001b[49m\u001b[43m \u001b[49m\u001b[43mtarget\u001b[49m\u001b[43m,\u001b[49m\u001b[43m \u001b[49m\u001b[43mweight\u001b[49m\u001b[43m,\u001b[49m\u001b[43m \u001b[49m\u001b[43m_Reduction\u001b[49m\u001b[38;5;241;43m.\u001b[39;49m\u001b[43mget_enum\u001b[49m\u001b[43m(\u001b[49m\u001b[43mreduction\u001b[49m\u001b[43m)\u001b[49m\u001b[43m,\u001b[49m\u001b[43m \u001b[49m\u001b[43mignore_index\u001b[49m\u001b[43m,\u001b[49m\u001b[43m \u001b[49m\u001b[43mlabel_smoothing\u001b[49m\u001b[43m)\u001b[49m\n",
      "\u001b[1;31mRuntimeError\u001b[0m: expected scalar type Long but found Float"
     ]
    }
   ],
   "source": [
    "training_loop(\n",
    "n_epochs = 100,\n",
    "optimizer = optimizer,\n",
    "model = model,\n",
    "loss_fn = loss_fn,\n",
    "train_loader = train_dataloader,\n",
    "val_loader=val_dataloader)"
   ]
  }
 ],
 "metadata": {
  "kernelspec": {
   "display_name": "houses_predict",
   "language": "python",
   "name": "python3"
  },
  "language_info": {
   "codemirror_mode": {
    "name": "ipython",
    "version": 3
   },
   "file_extension": ".py",
   "mimetype": "text/x-python",
   "name": "python",
   "nbconvert_exporter": "python",
   "pygments_lexer": "ipython3",
   "version": "3.11.8"
  }
 },
 "nbformat": 4,
 "nbformat_minor": 2
}
