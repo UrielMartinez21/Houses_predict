{
 "cells": [
  {
   "cell_type": "markdown",
   "metadata": {},
   "source": [
    "## Separar dataset en train y test"
   ]
  },
  {
   "cell_type": "code",
   "execution_count": 1,
   "metadata": {},
   "outputs": [
    {
     "data": {
      "text/html": [
       "<div>\n",
       "<style scoped>\n",
       "    .dataframe tbody tr th:only-of-type {\n",
       "        vertical-align: middle;\n",
       "    }\n",
       "\n",
       "    .dataframe tbody tr th {\n",
       "        vertical-align: top;\n",
       "    }\n",
       "\n",
       "    .dataframe thead th {\n",
       "        text-align: right;\n",
       "    }\n",
       "</style>\n",
       "<table border=\"1\" class=\"dataframe\">\n",
       "  <thead>\n",
       "    <tr style=\"text-align: right;\">\n",
       "      <th></th>\n",
       "      <th>bedrooms</th>\n",
       "      <th>bathrooms</th>\n",
       "      <th>area</th>\n",
       "      <th>zipcode</th>\n",
       "      <th>price</th>\n",
       "      <th>bathroom_image</th>\n",
       "      <th>bedroom_image</th>\n",
       "      <th>kitchen_image</th>\n",
       "      <th>frontal_image</th>\n",
       "      <th>imagen_mosaico</th>\n",
       "    </tr>\n",
       "  </thead>\n",
       "  <tbody>\n",
       "    <tr>\n",
       "      <th>0</th>\n",
       "      <td>0.536137</td>\n",
       "      <td>1.341651</td>\n",
       "      <td>1.378536</td>\n",
       "      <td>-0.795699</td>\n",
       "      <td>869500</td>\n",
       "      <td>1_bathroom.jpg</td>\n",
       "      <td>1_bedroom.jpg</td>\n",
       "      <td>1_kitchen.jpg</td>\n",
       "      <td>1_frontal.jpg</td>\n",
       "      <td>1</td>\n",
       "    </tr>\n",
       "    <tr>\n",
       "      <th>1</th>\n",
       "      <td>0.536137</td>\n",
       "      <td>0.336704</td>\n",
       "      <td>0.798734</td>\n",
       "      <td>-7.640277</td>\n",
       "      <td>865200</td>\n",
       "      <td>2_bathroom.jpg</td>\n",
       "      <td>2_bedroom.jpg</td>\n",
       "      <td>2_kitchen.jpg</td>\n",
       "      <td>2_frontal.jpg</td>\n",
       "      <td>2</td>\n",
       "    </tr>\n",
       "    <tr>\n",
       "      <th>2</th>\n",
       "      <td>-0.325224</td>\n",
       "      <td>1.341651</td>\n",
       "      <td>1.272375</td>\n",
       "      <td>-0.794159</td>\n",
       "      <td>889000</td>\n",
       "      <td>3_bathroom.jpg</td>\n",
       "      <td>3_bedroom.jpg</td>\n",
       "      <td>3_kitchen.jpg</td>\n",
       "      <td>3_frontal.jpg</td>\n",
       "      <td>3</td>\n",
       "    </tr>\n",
       "    <tr>\n",
       "      <th>3</th>\n",
       "      <td>1.397499</td>\n",
       "      <td>2.346599</td>\n",
       "      <td>1.353220</td>\n",
       "      <td>-0.794719</td>\n",
       "      <td>910000</td>\n",
       "      <td>4_bathroom.jpg</td>\n",
       "      <td>4_bedroom.jpg</td>\n",
       "      <td>4_kitchen.jpg</td>\n",
       "      <td>4_frontal.jpg</td>\n",
       "      <td>4</td>\n",
       "    </tr>\n",
       "    <tr>\n",
       "      <th>4</th>\n",
       "      <td>-0.325224</td>\n",
       "      <td>1.341651</td>\n",
       "      <td>1.429983</td>\n",
       "      <td>-0.794159</td>\n",
       "      <td>971226</td>\n",
       "      <td>5_bathroom.jpg</td>\n",
       "      <td>5_bedroom.jpg</td>\n",
       "      <td>5_kitchen.jpg</td>\n",
       "      <td>5_frontal.jpg</td>\n",
       "      <td>5</td>\n",
       "    </tr>\n",
       "  </tbody>\n",
       "</table>\n",
       "</div>"
      ],
      "text/plain": [
       "   bedrooms  bathrooms      area   zipcode   price  bathroom_image  \\\n",
       "0  0.536137   1.341651  1.378536 -0.795699  869500  1_bathroom.jpg   \n",
       "1  0.536137   0.336704  0.798734 -7.640277  865200  2_bathroom.jpg   \n",
       "2 -0.325224   1.341651  1.272375 -0.794159  889000  3_bathroom.jpg   \n",
       "3  1.397499   2.346599  1.353220 -0.794719  910000  4_bathroom.jpg   \n",
       "4 -0.325224   1.341651  1.429983 -0.794159  971226  5_bathroom.jpg   \n",
       "\n",
       "   bedroom_image  kitchen_image  frontal_image  imagen_mosaico  \n",
       "0  1_bedroom.jpg  1_kitchen.jpg  1_frontal.jpg               1  \n",
       "1  2_bedroom.jpg  2_kitchen.jpg  2_frontal.jpg               2  \n",
       "2  3_bedroom.jpg  3_kitchen.jpg  3_frontal.jpg               3  \n",
       "3  4_bedroom.jpg  4_kitchen.jpg  4_frontal.jpg               4  \n",
       "4  5_bedroom.jpg  5_kitchen.jpg  5_frontal.jpg               5  "
      ]
     },
     "execution_count": 1,
     "metadata": {},
     "output_type": "execute_result"
    }
   ],
   "source": [
    "import pandas as pd\n",
    "from sklearn.model_selection import train_test_split\n",
    "\n",
    "df = pd.read_csv('../Dataset/dataset_normalizado_mosaico.csv')\n",
    "\n",
    "df.head()"
   ]
  },
  {
   "cell_type": "code",
   "execution_count": 26,
   "metadata": {},
   "outputs": [
    {
     "data": {
      "text/plain": [
       "2.346598601447901"
      ]
     },
     "execution_count": 26,
     "metadata": {},
     "output_type": "execute_result"
    }
   ],
   "source": [
    "# Separar dataset en entrenamiento y prueba\n",
    "X_train, X_test, y_train, y_test = train_test_split(df[['bedrooms','bathrooms','area', 'zipcode', 'imagen_mosaico']].values, df['price'].values, test_size=0.2, random_state=42)\n"
   ]
  }
 ],
 "metadata": {
  "kernelspec": {
   "display_name": "Python 3",
   "language": "python",
   "name": "python3"
  },
  "language_info": {
   "codemirror_mode": {
    "name": "ipython",
    "version": 3
   },
   "file_extension": ".py",
   "mimetype": "text/x-python",
   "name": "python",
   "nbconvert_exporter": "python",
   "pygments_lexer": "ipython3",
   "version": "3.11.8"
  }
 },
 "nbformat": 4,
 "nbformat_minor": 2
}
